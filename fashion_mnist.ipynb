{
  "nbformat": 4,
  "nbformat_minor": 0,
  "metadata": {
    "colab": {
      "name": "Untitled0.ipynb",
      "version": "0.3.2",
      "provenance": [],
      "collapsed_sections": [],
      "include_colab_link": true
    },
    "kernelspec": {
      "name": "python3",
      "display_name": "Python 3"
    },
    "accelerator": "TPU"
  },
  "cells": [
    {
      "cell_type": "markdown",
      "metadata": {
        "id": "view-in-github",
        "colab_type": "text"
      },
      "source": [
        "<a href=\"https://colab.research.google.com/github/sbhusal123/Calculator/blob/master/fashion_mnist.ipynb\" target=\"_parent\"><img src=\"https://colab.research.google.com/assets/colab-badge.svg\" alt=\"Open In Colab\"/></a>"
      ]
    },
    {
      "metadata": {
        "id": "gi4AlPCN4mjc",
        "colab_type": "code",
        "colab": {}
      },
      "cell_type": "code",
      "source": [
        "import tensorflow as tf\n",
        "from tensorflow import keras\n",
        "\n",
        "import numpy as np\n",
        "import matplotlib.pyplot as plt\n",
        "from tensorboardcolab import *\n",
        "\n"
      ],
      "execution_count": 0,
      "outputs": []
    },
    {
      "metadata": {
        "id": "0IVW4aCsvmX4",
        "colab_type": "code",
        "colab": {}
      },
      "cell_type": "code",
      "source": [
        "fashoin_mnist = keras.datasets.fashion_mnist\n",
        "\n",
        "(train_images,train_labels),(test_images,test_labels) = fashoin_mnist.load_data()\n",
        "\n",
        "class_name = ['T-shirt/top','Trouser','Pullover','Dress','Coat','Sandal','Shirt','Sneaker','Bag','Ankle boot']\n"
      ],
      "execution_count": 0,
      "outputs": []
    },
    {
      "metadata": {
        "id": "8yZaG8KF5r47",
        "colab_type": "code",
        "outputId": "8a030007-1db9-4da7-da24-c82a7f14f63f",
        "colab": {
          "base_uri": "https://localhost:8080/",
          "height": 364
        }
      },
      "cell_type": "code",
      "source": [
        "plt.imshow(train_images[0])\n",
        "plt.colorbar() #show color range bar numeric value\n",
        "plt.gca().grid(False) #dont show grid on plot\n",
        "plt.plot()"
      ],
      "execution_count": 104,
      "outputs": [
        {
          "output_type": "execute_result",
          "data": {
            "text/plain": [
              "[]"
            ]
          },
          "metadata": {
            "tags": []
          },
          "execution_count": 104
        },
        {
          "output_type": "display_data",
          "data": {
            "image/png": "[encoded data removed]",
            "text/plain": [
              "<Figure size 576x396 with 2 Axes>"
            ]
          },
          "metadata": {
            "tags": []
          }
        }
      ]
    },
    {
      "metadata": {
        "id": "4f5cQN8I6Clh",
        "colab_type": "code",
        "colab": {
          "base_uri": "https://localhost:8080/",
          "height": 34
        },
        "outputId": "ff145e95-2029-42e9-a11b-0e8872e6a2d0"
      },
      "cell_type": "code",
      "source": [
        "train_images = train_images/255.0\n",
        "test_images = test_images/255.0\n",
        "\n",
        "print(train_images.shape)"
      ],
      "execution_count": 105,
      "outputs": [
        {
          "output_type": "stream",
          "text": [
            "(60000, 28, 28)\n"
          ],
          "name": "stdout"
        }
      ]
    },
    {
      "metadata": {
        "id": "O-vXfQIR6Nkh",
        "colab_type": "code",
        "outputId": "8d3d3e16-b133-4485-db78-91eed1abed24",
        "colab": {
          "base_uri": "https://localhost:8080/",
          "height": 1861
        }
      },
      "cell_type": "code",
      "source": [
        "model = keras.Sequential()\n",
        "model.add(keras.layers.Flatten(input_shape=(28,28)))\n",
        "model.add(keras.layers.Dense(128,activation=tf.nn.relu))\n",
        "model.add(keras.layers.Dense(10,activation=tf.nn.softmax))\n",
        "model.compile(optimizer='sgd',loss='sparse_categorical_crossentropy',metrics=['accuracy'])\n",
        "\n",
        "\n",
        "\n",
        "tfc = TensorBoardColab(startup_waiting_time=8)\n",
        "model.fit(train_images,train_labels,epochs=50,validation_data=(test_images,test_labels))\n"
      ],
      "execution_count": 106,
      "outputs": [
        {
          "output_type": "stream",
          "text": [
            "Wait for 8 seconds...\n",
            "TensorBoard link:\n",
            "https://1128a31a.ngrok.io\n",
            "Train on 60000 samples, validate on 10000 samples\n",
            "Epoch 1/50\n",
            "60000/60000 [==============================] - 11s 179us/sample - loss: 0.7342 - acc: 0.7664 - val_loss: 0.5670 - val_acc: 0.8045\n",
            "Epoch 2/50\n",
            "60000/60000 [==============================] - 9s 142us/sample - loss: 0.5117 - acc: 0.8281 - val_loss: 0.5150 - val_acc: 0.8212\n",
            "Epoch 3/50\n",
            "60000/60000 [==============================] - 9s 146us/sample - loss: 0.4677 - acc: 0.8380 - val_loss: 0.4810 - val_acc: 0.8328\n",
            "Epoch 4/50\n",
            "60000/60000 [==============================] - 8s 140us/sample - loss: 0.4435 - acc: 0.8469 - val_loss: 0.4586 - val_acc: 0.8382\n",
            "Epoch 5/50\n",
            "60000/60000 [==============================] - 7s 116us/sample - loss: 0.4259 - acc: 0.8529 - val_loss: 0.4601 - val_acc: 0.8369\n",
            "Epoch 6/50\n",
            "60000/60000 [==============================] - 8s 141us/sample - loss: 0.4121 - acc: 0.8578 - val_loss: 0.4420 - val_acc: 0.8435\n",
            "Epoch 7/50\n",
            "60000/60000 [==============================] - 8s 137us/sample - loss: 0.3999 - acc: 0.8605 - val_loss: 0.4271 - val_acc: 0.8512\n",
            "Epoch 8/50\n",
            "60000/60000 [==============================] - 9s 143us/sample - loss: 0.3898 - acc: 0.8650 - val_loss: 0.4227 - val_acc: 0.8525\n",
            "Epoch 9/50\n",
            "60000/60000 [==============================] - 9s 145us/sample - loss: 0.3817 - acc: 0.8674 - val_loss: 0.4146 - val_acc: 0.8546\n",
            "Epoch 10/50\n",
            "60000/60000 [==============================] - 7s 117us/sample - loss: 0.3741 - acc: 0.8703 - val_loss: 0.4040 - val_acc: 0.8579\n",
            "Epoch 11/50\n",
            "60000/60000 [==============================] - 9s 152us/sample - loss: 0.3670 - acc: 0.8727 - val_loss: 0.4191 - val_acc: 0.8536\n",
            "Epoch 12/50\n",
            "60000/60000 [==============================] - 9s 155us/sample - loss: 0.3606 - acc: 0.8752 - val_loss: 0.4003 - val_acc: 0.8576\n",
            "Epoch 13/50\n",
            "60000/60000 [==============================] - 7s 116us/sample - loss: 0.3542 - acc: 0.8759 - val_loss: 0.3948 - val_acc: 0.8605\n",
            "Epoch 14/50\n",
            "60000/60000 [==============================] - 9s 152us/sample - loss: 0.3487 - acc: 0.8777 - val_loss: 0.3896 - val_acc: 0.8617\n",
            "Epoch 15/50\n",
            "60000/60000 [==============================] - 9s 145us/sample - loss: 0.3439 - acc: 0.8799 - val_loss: 0.3847 - val_acc: 0.8672\n",
            "Epoch 16/50\n",
            "60000/60000 [==============================] - 9s 154us/sample - loss: 0.3382 - acc: 0.8814 - val_loss: 0.3908 - val_acc: 0.8622\n",
            "Epoch 17/50\n",
            "60000/60000 [==============================] - 8s 139us/sample - loss: 0.3340 - acc: 0.8830 - val_loss: 0.3979 - val_acc: 0.8586\n",
            "Epoch 18/50\n",
            "60000/60000 [==============================] - 7s 124us/sample - loss: 0.3290 - acc: 0.8850 - val_loss: 0.3823 - val_acc: 0.8656\n",
            "Epoch 19/50\n",
            "60000/60000 [==============================] - 9s 148us/sample - loss: 0.3245 - acc: 0.8856 - val_loss: 0.3907 - val_acc: 0.8564\n",
            "Epoch 20/50\n",
            "60000/60000 [==============================] - 7s 114us/sample - loss: 0.3206 - acc: 0.8868 - val_loss: 0.3705 - val_acc: 0.8697\n",
            "Epoch 21/50\n",
            "60000/60000 [==============================] - 9s 143us/sample - loss: 0.3170 - acc: 0.8876 - val_loss: 0.3754 - val_acc: 0.8665\n",
            "Epoch 22/50\n",
            "60000/60000 [==============================] - 8s 131us/sample - loss: 0.3127 - acc: 0.8900 - val_loss: 0.3694 - val_acc: 0.8672\n",
            "Epoch 23/50\n",
            "60000/60000 [==============================] - 7s 112us/sample - loss: 0.3097 - acc: 0.8906 - val_loss: 0.3609 - val_acc: 0.8724\n",
            "Epoch 24/50\n",
            "60000/60000 [==============================] - 9s 142us/sample - loss: 0.3064 - acc: 0.8917 - val_loss: 0.3594 - val_acc: 0.8750\n",
            "Epoch 25/50\n",
            "60000/60000 [==============================] - 8s 138us/sample - loss: 0.3020 - acc: 0.8939 - val_loss: 0.3631 - val_acc: 0.8728\n",
            "Epoch 26/50\n",
            "60000/60000 [==============================] - 8s 133us/sample - loss: 0.2983 - acc: 0.8956 - val_loss: 0.3571 - val_acc: 0.8710\n",
            "Epoch 27/50\n",
            "60000/60000 [==============================] - 9s 147us/sample - loss: 0.2960 - acc: 0.8950 - val_loss: 0.3546 - val_acc: 0.8743\n",
            "Epoch 28/50\n",
            "60000/60000 [==============================] - 9s 148us/sample - loss: 0.2931 - acc: 0.8963 - val_loss: 0.3564 - val_acc: 0.8727\n",
            "Epoch 29/50\n",
            "60000/60000 [==============================] - 9s 150us/sample - loss: 0.2901 - acc: 0.8976 - val_loss: 0.3529 - val_acc: 0.8732\n",
            "Epoch 30/50\n",
            "60000/60000 [==============================] - 8s 139us/sample - loss: 0.2866 - acc: 0.8992 - val_loss: 0.3524 - val_acc: 0.8771\n",
            "Epoch 31/50\n",
            "60000/60000 [==============================] - 9s 149us/sample - loss: 0.2836 - acc: 0.8999 - val_loss: 0.3513 - val_acc: 0.8764\n",
            "Epoch 32/50\n",
            "60000/60000 [==============================] - 9s 150us/sample - loss: 0.2812 - acc: 0.8999 - val_loss: 0.3504 - val_acc: 0.8725\n",
            "Epoch 33/50\n",
            "60000/60000 [==============================] - 7s 121us/sample - loss: 0.2790 - acc: 0.9012 - val_loss: 0.3523 - val_acc: 0.8716\n",
            "Epoch 34/50\n",
            "60000/60000 [==============================] - 9s 145us/sample - loss: 0.2763 - acc: 0.9024 - val_loss: 0.3469 - val_acc: 0.8769\n",
            "Epoch 35/50\n",
            "60000/60000 [==============================] - 7s 116us/sample - loss: 0.2735 - acc: 0.9031 - val_loss: 0.3446 - val_acc: 0.8764\n",
            "Epoch 36/50\n",
            "60000/60000 [==============================] - 9s 145us/sample - loss: 0.2718 - acc: 0.9032 - val_loss: 0.3406 - val_acc: 0.8787\n",
            "Epoch 37/50\n",
            "60000/60000 [==============================] - 8s 138us/sample - loss: 0.2689 - acc: 0.9049 - val_loss: 0.3487 - val_acc: 0.8741\n",
            "Epoch 38/50\n",
            "60000/60000 [==============================] - 10s 162us/sample - loss: 0.2670 - acc: 0.9055 - val_loss: 0.3408 - val_acc: 0.8821\n",
            "Epoch 39/50\n",
            "60000/60000 [==============================] - 9s 146us/sample - loss: 0.2639 - acc: 0.9065 - val_loss: 0.3420 - val_acc: 0.8782\n",
            "Epoch 40/50\n",
            "60000/60000 [==============================] - 9s 145us/sample - loss: 0.2616 - acc: 0.9070 - val_loss: 0.3497 - val_acc: 0.8756\n",
            "Epoch 41/50\n",
            "60000/60000 [==============================] - 7s 117us/sample - loss: 0.2601 - acc: 0.9078 - val_loss: 0.3427 - val_acc: 0.8775\n",
            "Epoch 42/50\n",
            "60000/60000 [==============================] - 9s 149us/sample - loss: 0.2575 - acc: 0.9083 - val_loss: 0.3347 - val_acc: 0.8806\n",
            "Epoch 43/50\n",
            "60000/60000 [==============================] - 9s 143us/sample - loss: 0.2562 - acc: 0.9092 - val_loss: 0.3481 - val_acc: 0.8763\n",
            "Epoch 44/50\n",
            "60000/60000 [==============================] - 8s 140us/sample - loss: 0.2541 - acc: 0.9097 - val_loss: 0.3353 - val_acc: 0.8803\n",
            "Epoch 45/50\n",
            "60000/60000 [==============================] - 9s 145us/sample - loss: 0.2514 - acc: 0.9106 - val_loss: 0.3367 - val_acc: 0.8790\n",
            "Epoch 46/50\n",
            "60000/60000 [==============================] - 9s 143us/sample - loss: 0.2505 - acc: 0.9116 - val_loss: 0.3318 - val_acc: 0.8832\n",
            "Epoch 47/50\n",
            "60000/60000 [==============================] - 7s 113us/sample - loss: 0.2480 - acc: 0.9115 - val_loss: 0.3305 - val_acc: 0.8839\n",
            "Epoch 48/50\n",
            "60000/60000 [==============================] - 9s 143us/sample - loss: 0.2450 - acc: 0.9132 - val_loss: 0.3335 - val_acc: 0.8822\n",
            "Epoch 49/50\n",
            "60000/60000 [==============================] - 7s 113us/sample - loss: 0.2440 - acc: 0.9135 - val_loss: 0.3357 - val_acc: 0.8820\n",
            "Epoch 50/50\n",
            "60000/60000 [==============================] - 8s 141us/sample - loss: 0.2417 - acc: 0.9144 - val_loss: 0.3356 - val_acc: 0.8815\n"
          ],
          "name": "stdout"
        },
        {
          "output_type": "execute_result",
          "data": {
            "text/plain": [
              "<tensorflow.python.keras.callbacks.History at 0x7f6ffa987860>"
            ]
          },
          "metadata": {
            "tags": []
          },
          "execution_count": 106
        }
      ]
    },
    {
      "metadata": {
        "id": "VowufwlneXmr",
        "colab_type": "text"
      },
      "cell_type": "markdown",
      "source": [
        "**Saving the entire model **\n",
        "\n",
        "**Go back  from the current directory and model is saved to content folder **"
      ]
    },
    {
      "metadata": {
        "id": "TJfxdagdMlKO",
        "colab_type": "code",
        "colab": {}
      },
      "cell_type": "code",
      "source": [
        "model.save('fashion_mnist.h5') "
      ],
      "execution_count": 0,
      "outputs": []
    },
    {
      "metadata": {
        "id": "fFtKU1JZexof",
        "colab_type": "text"
      },
      "cell_type": "markdown",
      "source": [
        "**Loading the saved model **"
      ]
    },
    {
      "metadata": {
        "id": "g95nf0u_NG0q",
        "colab_type": "code",
        "colab": {
          "base_uri": "https://localhost:8080/",
          "height": 278
        },
        "outputId": "8e1bd6c7-341e-4631-fb6e-27db5f453f78"
      },
      "cell_type": "code",
      "source": [
        "new_model = keras.models.load_model('fashion_mnist.h5')\n",
        "\n",
        "new_model.summary()\n",
        "\n",
        "\n",
        "model.evaluate(test_images,test_labels)"
      ],
      "execution_count": 108,
      "outputs": [
        {
          "output_type": "stream",
          "text": [
            "_________________________________________________________________\n",
            "Layer (type)                 Output Shape              Param #   \n",
            "=================================================================\n",
            "flatten_3 (Flatten)          (None, 784)               0         \n",
            "_________________________________________________________________\n",
            "dense_6 (Dense)              (None, 128)               100480    \n",
            "_________________________________________________________________\n",
            "dense_7 (Dense)              (None, 10)                1290      \n",
            "=================================================================\n",
            "Total params: 101,770\n",
            "Trainable params: 101,770\n",
            "Non-trainable params: 0\n",
            "_________________________________________________________________\n",
            "10000/10000 [==============================] - 1s 58us/sample - loss: 0.3356 - acc: 0.8815\n"
          ],
          "name": "stdout"
        },
        {
          "output_type": "execute_result",
          "data": {
            "text/plain": [
              "[0.3356033779859543, 0.8815]"
            ]
          },
          "metadata": {
            "tags": []
          },
          "execution_count": 108
        }
      ]
    },
    {
      "metadata": {
        "id": "bTqS7ZWYPMVX",
        "colab_type": "code",
        "colab": {
          "base_uri": "https://localhost:8080/",
          "height": 312
        },
        "outputId": "bb02c4dc-618a-4124-a0b5-23361efa85a1"
      },
      "cell_type": "code",
      "source": [
        "test = 102\n",
        "\n",
        "t_img = np.array(test_images[test])\n",
        "t_img.shape = (1,28,28) \n",
        "#it's a tensor, the first parameter 1 is actually used to represent the no of data samples\n",
        "\n",
        "\n",
        "pre = model.predict(t_img)\n",
        "\n",
        "\n",
        "\n",
        "\n",
        "print(\"Prediction probability is:\")\n",
        "print(\"________________________________\")\n",
        "for i in range(0,10):\n",
        "  print(class_name[i]+\" = \"+ str(pre[0][i]))\n",
        "print(\"________________________________\")\n",
        "\n",
        "\n",
        "\n",
        "pre = np.argmax(pre)\n",
        "\n",
        "\n",
        "print(\"\\n\")\n",
        "print('Predicted class is:'+str(class_name[pre]))\n",
        "print('Actual class:'+class_name[test_labels[test]])\n"
      ],
      "execution_count": 155,
      "outputs": [
        {
          "output_type": "stream",
          "text": [
            "Prediction probability is:\n",
            "________________________________\n",
            "T-shirt/top = 9.438341e-07\n",
            "Trouser = 3.1942574e-07\n",
            "Pullover = 2.5898655e-06\n",
            "Dress = 8.6885916e-07\n",
            "Coat = 3.0011893e-08\n",
            "Sandal = 0.0004950452\n",
            "Shirt = 1.035204e-06\n",
            "Sneaker = 0.9983975\n",
            "Bag = 0.00016002193\n",
            "Ankle boot = 0.0009416301\n",
            "________________________________\n",
            "\n",
            "\n",
            "Predicted class is:Sneaker\n",
            "Actual class:Sneaker\n"
          ],
          "name": "stdout"
        }
      ]
    }
  ]
}